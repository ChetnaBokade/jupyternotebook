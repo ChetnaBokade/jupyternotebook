{
  "metadata": {
    "kernelspec": {
      "name": "python",
      "display_name": "Pyolite",
      "language": "python"
    },
    "language_info": {
      "codemirror_mode": {
        "name": "python",
        "version": 3
      },
      "file_extension": ".py",
      "mimetype": "text/x-python",
      "name": "python",
      "nbconvert_exporter": "python",
      "pygments_lexer": "ipython3",
      "version": "3.8"
    }
  },
  "nbformat_minor": 4,
  "nbformat": 4,
  "cells": [
    {
      "cell_type": "markdown",
      "source": "<center>\n    <img src=\"https://cf-courses-data.s3.us.cloud-object-storage.appdomain.cloud/IBMDeveloperSkillsNetwork-DS0105EN-SkillsNetwork/labs/Module2/images/SN_web_lightmode.png\" width=\"300\" alt=\"cognitiveclass.ai logo\"  />\n</center>\n",
      "metadata": {}
    },
    {
      "cell_type": "markdown",
      "source": "#### Add your code below following the instructions given in the course\n",
      "metadata": {}
    },
    {
      "cell_type": "markdown",
      "source": "My Jupyter Notebook on IBM Watson Studio",
      "metadata": {}
    },
    {
      "cell_type": "markdown",
      "source": "**Chetna Bokade**",
      "metadata": {}
    },
    {
      "cell_type": "markdown",
      "source": "Application Developer Senior Analyst / Data Scientist ",
      "metadata": {}
    },
    {
      "cell_type": "markdown",
      "source": "*I am interested in data science because it uses both code and no code tools and techniques to analyse data to get and share some meaningful insights and information.*",
      "metadata": {}
    },
    {
      "cell_type": "markdown",
      "source": "### The below code adds elements in the list",
      "metadata": {}
    },
    {
      "cell_type": "code",
      "source": "list = [1,2,3,4]\nsum = 0\nfor l in list:\n    sum += l\nprint(sum)",
      "metadata": {
        "trusted": true
      },
      "execution_count": 3,
      "outputs": [
        {
          "name": "stdout",
          "text": "10\n",
          "output_type": "stream"
        }
      ]
    },
    {
      "cell_type": "markdown",
      "source": "---",
      "metadata": {}
    },
    {
      "cell_type": "markdown",
      "source": "Resuts in table: ",
      "metadata": {}
    },
    {
      "cell_type": "markdown",
      "source": "<table ><tr><th> Numbers <th><th> Sum <th><th> \n<tr><td> 1,2,3,4 <td><td> 10 <td><td> </table>",
      "metadata": {}
    },
    {
      "cell_type": "markdown",
      "source": "- Click on run button to run the code\n- You can also click shift tab to run the code\n- You can change the elements in the list ",
      "metadata": {}
    },
    {
      "cell_type": "code",
      "source": "",
      "metadata": {},
      "execution_count": null,
      "outputs": []
    }
  ]
}